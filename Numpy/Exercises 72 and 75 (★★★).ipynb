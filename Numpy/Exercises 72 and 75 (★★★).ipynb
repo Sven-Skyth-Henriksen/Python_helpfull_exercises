{
 "cells": [
  {
   "cell_type": "code",
   "execution_count": 1,
   "id": "complimentary-handbook",
   "metadata": {
    "slideshow": {
     "slide_type": "slide"
    }
   },
   "outputs": [],
   "source": [
    "# Import the needed libraries\n",
    "import numpy as np"
   ]
  },
  {
   "cell_type": "markdown",
   "id": "pacific-kentucky",
   "metadata": {},
   "source": [
    "**72. How to swap two rows of an array?** "
   ]
  },
  {
   "cell_type": "code",
   "execution_count": 2,
   "id": "proper-reservoir",
   "metadata": {},
   "outputs": [
    {
     "name": "stdout",
     "output_type": "stream",
     "text": [
      "[[ 5  6  7  8  9]\n",
      " [ 0  1  2  3  4]\n",
      " [10 11 12 13 14]\n",
      " [15 16 17 18 19]\n",
      " [20 21 22 23 24]]\n"
     ]
    }
   ],
   "source": [
    "Arr = np.arange(25).reshape(5,5)\n",
    "\n",
    "Arr[[0,1]] = Arr[[1,0]]\n",
    "\n",
    "print(Arr)"
   ]
  },
  {
   "cell_type": "markdown",
   "id": "outer-encoding",
   "metadata": {},
   "source": [
    "**75. How to compute averages using a sliding window over an array?**"
   ]
  },
  {
   "cell_type": "code",
   "execution_count": 6,
   "id": "active-reply",
   "metadata": {},
   "outputs": [
    {
     "name": "stdout",
     "output_type": "stream",
     "text": [
      "[ 1.  2.  3.  4.  5.  6.  7.  8.  9. 10. 11. 12. 13. 14. 15. 16. 17. 18.]\n"
     ]
    }
   ],
   "source": [
    "array = np.random.randint(1,10, size=(3,3))\n",
    "print (array)\n",
    "a = np.cumsum(array)\n",
    "print(\"\\n\")\n",
    "print (a)\n",
    "print (\"Average:\", round(np.average(a),2))"
   ]
  },
  {
   "cell_type": "code",
   "execution_count": null,
   "id": "retained-aside",
   "metadata": {},
   "outputs": [],
   "source": []
  }
 ],
 "metadata": {
  "kernelspec": {
   "display_name": "Python 3",
   "language": "python",
   "name": "python3"
  },
  "language_info": {
   "codemirror_mode": {
    "name": "ipython",
    "version": 3
   },
   "file_extension": ".py",
   "mimetype": "text/x-python",
   "name": "python",
   "nbconvert_exporter": "python",
   "pygments_lexer": "ipython3",
   "version": "3.9.2"
  }
 },
 "nbformat": 4,
 "nbformat_minor": 5
}
